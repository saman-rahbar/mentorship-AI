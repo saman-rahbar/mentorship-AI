{
 "cells": [
  {
   "cell_type": "markdown",
   "metadata": {
    "colab_type": "text",
    "id": "nQl-nIDDCA53"
   },
   "source": [
    "# Case Study - Image Classification using Deep CNN in Keras.\n"
   ]
  },
  {
   "cell_type": "markdown",
   "metadata": {
    "colab_type": "text",
    "id": "dFEKKMXICF9X"
   },
   "source": [
    "<h1>Context<h1/>\n",
    "\n",
    "- The CIFAR-10 dataset contains 60,000 32x32 color images in 10 different classes.\n",
    "- The 10 different classes represent airplanes, cars, birds, cats, deer, dogs, frogs, horses, ships, and trucks.\n",
    "- There are 6,000 images of each class.\n",
    "\n",
    "<h2>Understand the labels:<h2/>\n",
    "\n",
    "- airplane : 0\n",
    "- automobile : 1\n",
    "- bird : 2\n",
    "- cat : 3\n",
    "- deer : 4\n",
    "- dog : 5\n",
    "- frog : 6\n",
    "- horse : 7\n",
    "- ship : 8\n",
    "- truck : 9"
   ]
  },
  {
   "cell_type": "markdown",
   "metadata": {
    "colab_type": "text",
    "id": "Epsl8aAGNPej"
   },
   "source": [
    "## Add-on:\n",
    "What type of classification is this?"
   ]
  },
  {
   "cell_type": "markdown",
   "metadata": {
    "colab_type": "text",
    "id": "iNIN3s1kHmTB"
   },
   "source": [
    "<h1>Problem Statement<h1/>\n",
    "\n",
    "- Image Classification using Deep CNN in Keras and also some edge detection operation.\n"
   ]
  },
  {
   "cell_type": "markdown",
   "metadata": {
    "colab_type": "text",
    "id": "BoVbZ22GICCo"
   },
   "source": [
    "<h1>Import all necessary modules and load the data<h1/>"
   ]
  },
  {
   "cell_type": "code",
   "execution_count": 2,
   "metadata": {
    "colab": {},
    "colab_type": "code",
    "id": "r6bjW33oQvDs"
   },
   "outputs": [],
   "source": [
    "# Import necessary modules.\n",
    "\n",
    "import cv2\n",
    "import numpy as np\n",
    "import matplotlib.pyplot as plt\n",
    "%matplotlib inline\n",
    "\n",
    "from tensorflow.keras import datasets, models, layers, optimizers\n",
    "from tensorflow.keras.preprocessing.image import ImageDataGenerator\n",
    "from tensorflow.keras.callbacks import ModelCheckpoint, EarlyStopping\n",
    "#from google.colab.patches import cv2_imshow"
   ]
  },
  {
   "cell_type": "code",
   "execution_count": 3,
   "metadata": {
    "colab": {},
    "colab_type": "code",
    "id": "e21_TQyARLdf"
   },
   "outputs": [],
   "source": [
    "# Set the batch size, number of epochs.\n",
    "batch_size = 32\n",
    "num_classes = 10\n",
    "epochs = 40\n",
    "num_predictions = 20"
   ]
  },
  {
   "cell_type": "code",
   "execution_count": 102,
   "metadata": {
    "colab": {},
    "colab_type": "code",
    "id": "Ag1mlSAiRSsR"
   },
   "outputs": [],
   "source": [
    "# The data, split between train and test sets:\n",
    "(x_train, y_train), (x_test, y_test) = datasets.cifar10.load_data()"
   ]
  },
  {
   "cell_type": "code",
   "execution_count": 5,
   "metadata": {
    "colab": {
     "base_uri": "https://localhost:8080/",
     "height": 68
    },
    "colab_type": "code",
    "id": "3pXTYLk2Idol",
    "outputId": "70126aeb-3402-4081-a6fe-5a3403f59250"
   },
   "outputs": [
    {
     "name": "stdout",
     "output_type": "stream",
     "text": [
      "x_train shape: (50000, 32, 32, 3)\n",
      "50000 train samples\n",
      "10000 test samples\n"
     ]
    }
   ],
   "source": [
    "# Print the shape of dataset.\n",
    "print('x_train shape:', x_train.shape)\n",
    "print(x_train.shape[0], 'train samples')\n",
    "print(x_test.shape[0], 'test samples')"
   ]
  },
  {
   "cell_type": "code",
   "execution_count": 98,
   "metadata": {
    "colab": {
     "base_uri": "https://localhost:8080/",
     "height": 34
    },
    "colab_type": "code",
    "id": "D99L93w7w3UK",
    "outputId": "9d8c6271-016a-4e6f-df6c-8af904dfbd69"
   },
   "outputs": [
    {
     "data": {
      "text/plain": [
       "array([[[[ 59,  62,  63],\n",
       "         [ 43,  46,  45],\n",
       "         [ 50,  48,  43],\n",
       "         ...,\n",
       "         [158, 132, 108],\n",
       "         [152, 125, 102],\n",
       "         [148, 124, 103]],\n",
       "\n",
       "        [[ 16,  20,  20],\n",
       "         [  0,   0,   0],\n",
       "         [ 18,   8,   0],\n",
       "         ...,\n",
       "         [123,  88,  55],\n",
       "         [119,  83,  50],\n",
       "         [122,  87,  57]],\n",
       "\n",
       "        [[ 25,  24,  21],\n",
       "         [ 16,   7,   0],\n",
       "         [ 49,  27,   8],\n",
       "         ...,\n",
       "         [118,  84,  50],\n",
       "         [120,  84,  50],\n",
       "         [109,  73,  42]],\n",
       "\n",
       "        ...,\n",
       "\n",
       "        [[208, 170,  96],\n",
       "         [201, 153,  34],\n",
       "         [198, 161,  26],\n",
       "         ...,\n",
       "         [160, 133,  70],\n",
       "         [ 56,  31,   7],\n",
       "         [ 53,  34,  20]],\n",
       "\n",
       "        [[180, 139,  96],\n",
       "         [173, 123,  42],\n",
       "         [186, 144,  30],\n",
       "         ...,\n",
       "         [184, 148,  94],\n",
       "         [ 97,  62,  34],\n",
       "         [ 83,  53,  34]],\n",
       "\n",
       "        [[177, 144, 116],\n",
       "         [168, 129,  94],\n",
       "         [179, 142,  87],\n",
       "         ...,\n",
       "         [216, 184, 140],\n",
       "         [151, 118,  84],\n",
       "         [123,  92,  72]]],\n",
       "\n",
       "\n",
       "       [[[154, 177, 187],\n",
       "         [126, 137, 136],\n",
       "         [105, 104,  95],\n",
       "         ...,\n",
       "         [ 91,  95,  71],\n",
       "         [ 87,  90,  71],\n",
       "         [ 79,  81,  70]],\n",
       "\n",
       "        [[140, 160, 169],\n",
       "         [145, 153, 154],\n",
       "         [125, 125, 118],\n",
       "         ...,\n",
       "         [ 96,  99,  78],\n",
       "         [ 77,  80,  62],\n",
       "         [ 71,  73,  61]],\n",
       "\n",
       "        [[140, 155, 164],\n",
       "         [139, 146, 149],\n",
       "         [115, 115, 112],\n",
       "         ...,\n",
       "         [ 79,  82,  64],\n",
       "         [ 68,  70,  55],\n",
       "         [ 67,  69,  55]],\n",
       "\n",
       "        ...,\n",
       "\n",
       "        [[175, 167, 166],\n",
       "         [156, 154, 160],\n",
       "         [154, 160, 170],\n",
       "         ...,\n",
       "         [ 42,  34,  36],\n",
       "         [ 61,  53,  57],\n",
       "         [ 93,  83,  91]],\n",
       "\n",
       "        [[165, 154, 128],\n",
       "         [156, 152, 130],\n",
       "         [159, 161, 142],\n",
       "         ...,\n",
       "         [103,  93,  96],\n",
       "         [123, 114, 120],\n",
       "         [131, 121, 131]],\n",
       "\n",
       "        [[163, 148, 120],\n",
       "         [158, 148, 122],\n",
       "         [163, 156, 133],\n",
       "         ...,\n",
       "         [143, 133, 139],\n",
       "         [143, 134, 142],\n",
       "         [143, 133, 144]]],\n",
       "\n",
       "\n",
       "       [[[255, 255, 255],\n",
       "         [253, 253, 253],\n",
       "         [253, 253, 253],\n",
       "         ...,\n",
       "         [253, 253, 253],\n",
       "         [253, 253, 253],\n",
       "         [253, 253, 253]],\n",
       "\n",
       "        [[255, 255, 255],\n",
       "         [255, 255, 255],\n",
       "         [255, 255, 255],\n",
       "         ...,\n",
       "         [255, 255, 255],\n",
       "         [255, 255, 255],\n",
       "         [255, 255, 255]],\n",
       "\n",
       "        [[255, 255, 255],\n",
       "         [254, 254, 254],\n",
       "         [254, 254, 254],\n",
       "         ...,\n",
       "         [254, 254, 254],\n",
       "         [254, 254, 254],\n",
       "         [254, 254, 254]],\n",
       "\n",
       "        ...,\n",
       "\n",
       "        [[113, 120, 112],\n",
       "         [111, 118, 111],\n",
       "         [105, 112, 106],\n",
       "         ...,\n",
       "         [ 72,  81,  80],\n",
       "         [ 72,  80,  79],\n",
       "         [ 72,  80,  79]],\n",
       "\n",
       "        [[111, 118, 110],\n",
       "         [104, 111, 104],\n",
       "         [ 99, 106,  98],\n",
       "         ...,\n",
       "         [ 68,  75,  73],\n",
       "         [ 70,  76,  75],\n",
       "         [ 78,  84,  82]],\n",
       "\n",
       "        [[106, 113, 105],\n",
       "         [ 99, 106,  98],\n",
       "         [ 95, 102,  94],\n",
       "         ...,\n",
       "         [ 78,  85,  83],\n",
       "         [ 79,  85,  83],\n",
       "         [ 80,  86,  84]]],\n",
       "\n",
       "\n",
       "       ...,\n",
       "\n",
       "\n",
       "       [[[ 35, 178, 235],\n",
       "         [ 40, 176, 239],\n",
       "         [ 42, 176, 241],\n",
       "         ...,\n",
       "         [ 99, 177, 219],\n",
       "         [ 79, 147, 197],\n",
       "         [ 89, 148, 189]],\n",
       "\n",
       "        [[ 57, 182, 234],\n",
       "         [ 44, 184, 250],\n",
       "         [ 50, 183, 240],\n",
       "         ...,\n",
       "         [156, 182, 200],\n",
       "         [141, 177, 206],\n",
       "         [116, 149, 175]],\n",
       "\n",
       "        [[ 98, 197, 237],\n",
       "         [ 64, 189, 252],\n",
       "         [ 69, 192, 245],\n",
       "         ...,\n",
       "         [188, 195, 206],\n",
       "         [119, 135, 147],\n",
       "         [ 61,  79,  90]],\n",
       "\n",
       "        ...,\n",
       "\n",
       "        [[ 73,  79,  77],\n",
       "         [ 53,  63,  68],\n",
       "         [ 54,  68,  80],\n",
       "         ...,\n",
       "         [ 17,  40,  64],\n",
       "         [ 21,  36,  51],\n",
       "         [ 33,  48,  49]],\n",
       "\n",
       "        [[ 61,  68,  75],\n",
       "         [ 55,  70,  86],\n",
       "         [ 57,  79, 103],\n",
       "         ...,\n",
       "         [ 24,  48,  72],\n",
       "         [ 17,  35,  53],\n",
       "         [  7,  23,  32]],\n",
       "\n",
       "        [[ 44,  56,  73],\n",
       "         [ 46,  66,  88],\n",
       "         [ 49,  77, 105],\n",
       "         ...,\n",
       "         [ 27,  52,  77],\n",
       "         [ 21,  43,  66],\n",
       "         [ 12,  31,  50]]],\n",
       "\n",
       "\n",
       "       [[[189, 211, 240],\n",
       "         [186, 208, 236],\n",
       "         [185, 207, 235],\n",
       "         ...,\n",
       "         [175, 195, 224],\n",
       "         [172, 194, 222],\n",
       "         [169, 194, 220]],\n",
       "\n",
       "        [[194, 210, 239],\n",
       "         [191, 207, 236],\n",
       "         [190, 206, 235],\n",
       "         ...,\n",
       "         [173, 192, 220],\n",
       "         [171, 191, 218],\n",
       "         [167, 190, 216]],\n",
       "\n",
       "        [[208, 219, 244],\n",
       "         [205, 216, 240],\n",
       "         [204, 215, 239],\n",
       "         ...,\n",
       "         [175, 191, 217],\n",
       "         [172, 190, 216],\n",
       "         [169, 191, 215]],\n",
       "\n",
       "        ...,\n",
       "\n",
       "        [[207, 199, 181],\n",
       "         [203, 195, 175],\n",
       "         [203, 196, 173],\n",
       "         ...,\n",
       "         [135, 132, 127],\n",
       "         [162, 158, 150],\n",
       "         [168, 163, 151]],\n",
       "\n",
       "        [[198, 190, 170],\n",
       "         [189, 181, 159],\n",
       "         [180, 172, 147],\n",
       "         ...,\n",
       "         [178, 171, 160],\n",
       "         [175, 169, 156],\n",
       "         [175, 169, 154]],\n",
       "\n",
       "        [[198, 189, 173],\n",
       "         [189, 181, 162],\n",
       "         [178, 170, 149],\n",
       "         ...,\n",
       "         [195, 184, 169],\n",
       "         [196, 189, 171],\n",
       "         [195, 190, 171]]],\n",
       "\n",
       "\n",
       "       [[[229, 229, 239],\n",
       "         [236, 237, 247],\n",
       "         [234, 236, 247],\n",
       "         ...,\n",
       "         [217, 219, 233],\n",
       "         [221, 223, 234],\n",
       "         [222, 223, 233]],\n",
       "\n",
       "        [[222, 221, 229],\n",
       "         [239, 239, 249],\n",
       "         [233, 234, 246],\n",
       "         ...,\n",
       "         [223, 223, 236],\n",
       "         [227, 228, 238],\n",
       "         [210, 211, 220]],\n",
       "\n",
       "        [[213, 206, 211],\n",
       "         [234, 232, 239],\n",
       "         [231, 233, 244],\n",
       "         ...,\n",
       "         [220, 220, 232],\n",
       "         [220, 219, 232],\n",
       "         [202, 203, 215]],\n",
       "\n",
       "        ...,\n",
       "\n",
       "        [[150, 143, 135],\n",
       "         [140, 135, 127],\n",
       "         [132, 127, 120],\n",
       "         ...,\n",
       "         [224, 222, 218],\n",
       "         [230, 228, 225],\n",
       "         [241, 241, 238]],\n",
       "\n",
       "        [[137, 132, 126],\n",
       "         [130, 127, 120],\n",
       "         [125, 121, 115],\n",
       "         ...,\n",
       "         [181, 180, 178],\n",
       "         [202, 201, 198],\n",
       "         [212, 211, 207]],\n",
       "\n",
       "        [[122, 119, 114],\n",
       "         [118, 116, 110],\n",
       "         [120, 116, 111],\n",
       "         ...,\n",
       "         [179, 177, 173],\n",
       "         [164, 164, 162],\n",
       "         [163, 163, 161]]]], dtype=uint8)"
      ]
     },
     "execution_count": 98,
     "metadata": {},
     "output_type": "execute_result"
    }
   ],
   "source": [
    "x_Ajitha[1, : ,:, :]   #(num_pic, height, width, channel)"
   ]
  },
  {
   "cell_type": "code",
   "execution_count": 99,
   "metadata": {},
   "outputs": [
    {
     "data": {
      "text/plain": [
       "(32, 32, 3)"
      ]
     },
     "execution_count": 99,
     "metadata": {},
     "output_type": "execute_result"
    }
   ],
   "source": [
    "x_train[10].shape"
   ]
  },
  {
   "cell_type": "markdown",
   "metadata": {
    "colab_type": "text",
    "id": "mnXS2u8UNgv_"
   },
   "source": [
    "## Highlights:\n",
    "- How to select the 10th image?\n",
    "- How to get the red pixels only?\n",
    "- What is the shape of resulting array?"
   ]
  },
  {
   "cell_type": "code",
   "execution_count": 104,
   "metadata": {
    "colab": {
     "base_uri": "https://localhost:8080/",
     "height": 34
    },
    "colab_type": "code",
    "id": "j-wVAMfGnFij",
    "outputId": "2ab6a7f6-26ba-4a36-84a3-57a3d134fe6d"
   },
   "outputs": [
    {
     "data": {
      "text/plain": [
       "(50000, 1)"
      ]
     },
     "execution_count": 104,
     "metadata": {},
     "output_type": "execute_result"
    }
   ],
   "source": [
    "y_train.shape"
   ]
  },
  {
   "cell_type": "markdown",
   "metadata": {
    "colab_type": "text",
    "id": "b4EU-Du3CeCr"
   },
   "source": [
    "- The training set contains 50000 images.\n",
    "- The size of each image is 32x32 pixels.\n",
    "- Each image has 3 color channels."
   ]
  },
  {
   "cell_type": "code",
   "execution_count": 103,
   "metadata": {
    "colab": {
     "base_uri": "https://localhost:8080/",
     "height": 34
    },
    "colab_type": "code",
    "id": "K-5Y28Hf7-tq",
    "outputId": "111517e1-1a51-47c3-acb5-24ffb7c12956"
   },
   "outputs": [
    {
     "data": {
      "text/plain": [
       "array([6], dtype=uint8)"
      ]
     },
     "execution_count": 103,
     "metadata": {},
     "output_type": "execute_result"
    }
   ],
   "source": [
    "y_train[0]"
   ]
  },
  {
   "cell_type": "markdown",
   "metadata": {
    "colab_type": "text",
    "id": "bVWDHNjrCy9P"
   },
   "source": [
    "- The label of image at index = 0 is 6:\"frog\"."
   ]
  },
  {
   "cell_type": "code",
   "execution_count": 67,
   "metadata": {
    "colab": {},
    "colab_type": "code",
    "id": "s12yUeMB662K"
   },
   "outputs": [],
   "source": [
    "label_dict =  {0:'airplane', 1:'automobile', 2:'bird', 3:'cat', 4:'deer', 5:'dog', 6:'frog', 7:'horse', 8:'ship', 9:'truck'}"
   ]
  },
  {
   "cell_type": "markdown",
   "metadata": {
    "colab_type": "text",
    "id": "oKIYRyxsxCeK"
   },
   "source": [
    "\n",
    "<h2>Explore the Data<h3/>\n",
    "\n",
    "- Understanding a dataset is part of making predictions on the data. \n",
    "- It answers some of questions like in a given data..\n",
    "  - \"What are the possible labels?\"\n",
    "  - \"What is the range of pixel values for the image data?\"\n"
   ]
  },
  {
   "cell_type": "code",
   "execution_count": 73,
   "metadata": {
    "colab": {
     "base_uri": "https://localhost:8080/",
     "height": 317
    },
    "colab_type": "code",
    "id": "66qUQg6OxcsL",
    "outputId": "ee2dba1e-8896-450d-8955-9ec4f0c87fa7"
   },
   "outputs": [
    {
     "name": "stdout",
     "output_type": "stream",
     "text": [
      "Label \n",
      " Label Id: 6 \n",
      " Name: frog\n"
     ]
    },
    {
     "data": {
      "image/png": "[encoded data removed]",
      "text/plain": [
       "<Figure size 432x288 with 1 Axes>"
      ]
     },
     "metadata": {},
     "output_type": "display_data"
    }
   ],
   "source": [
    "i = 0\n",
    "image = x_train[i]\n",
    "label = y_train[i][0]\n",
    "#print(' Label \\n Label Id: {} \\n Name: {}'.format(label, label_dict[label]))\n",
    "print(f'Label \\n Label Id: {label} \\n Name: {label_dict[label]}')\n",
    "plt.imshow(image);"
   ]
  },
  {
   "cell_type": "markdown",
   "metadata": {
    "colab_type": "text",
    "id": "jGR-V6nLnllx"
   },
   "source": [
    "## Add-on:\n",
    "- Without checking, what is the shape of `image`\n",
    "- How to rewrite the print statement using `f-string`?"
   ]
  },
  {
   "cell_type": "markdown",
   "metadata": {
    "colab_type": "text",
    "id": "TZKivFaZDB7I"
   },
   "source": [
    "- The above image of a frog.\n",
    "- The Label ID is 6.\n",
    "- As we can see the x-axis and y-axis of image, it shows that there are 32 pixels on each directions."
   ]
  },
  {
   "cell_type": "code",
   "execution_count": null,
   "metadata": {
    "colab": {
     "base_uri": "https://localhost:8080/",
     "height": 300
    },
    "colab_type": "code",
    "id": "aq0rkOOT8nfI",
    "outputId": "962c0320-06df-455b-8b5f-452d63ce93b4"
   },
   "outputs": [
    {
     "name": "stderr",
     "output_type": "stream",
     "text": [
      "Clipping input data to the valid range for imshow with RGB data ([0..1] for floats or [0..255] for integers).\n"
     ]
    },
    {
     "data": {
      "text/plain": [
       "<matplotlib.image.AxesImage at 0x7ff994714438>"
      ]
     },
     "execution_count": 10,
     "metadata": {
      "tags": []
     },
     "output_type": "execute_result"
    },
    {
     "data": {
      "image/png": "[encoded data removed]",
      "text/plain": [
       "<Figure size 432x288 with 1 Axes>"
      ]
     },
     "metadata": {
      "needs_background": "light",
      "tags": []
     },
     "output_type": "display_data"
    }
   ],
   "source": [
    "sobel = cv2.Sobel(image, cv2.CV_64F, 1, 1, ksize=5)\n",
    "plt.imshow(sobel)"
   ]
  },
  {
   "cell_type": "markdown",
   "metadata": {
    "colab_type": "text",
    "id": "_0ghOfUzDRP3"
   },
   "source": [
    "- As the image quality is not good, the edges are not so good. But still we can visualize that there are edges."
   ]
  },
  {
   "cell_type": "code",
   "execution_count": 106,
   "metadata": {
    "colab": {
     "base_uri": "https://localhost:8080/",
     "height": 34
    },
    "colab_type": "code",
    "id": "9qH3IOGJ8Dwu",
    "outputId": "45c06747-8767-470d-c70d-1a20e430de69"
   },
   "outputs": [
    {
     "data": {
      "text/plain": [
       "array([6], dtype=uint8)"
      ]
     },
     "execution_count": 106,
     "metadata": {},
     "output_type": "execute_result"
    }
   ],
   "source": [
    "y_train[0]"
   ]
  },
  {
   "cell_type": "code",
   "execution_count": 107,
   "metadata": {
    "colab": {},
    "colab_type": "code",
    "id": "l7kVqDH8RUNr"
   },
   "outputs": [],
   "source": [
    "# Convert labels to one hot vectors.\n",
    "\n",
    "from sklearn.preprocessing import LabelBinarizer\n",
    "enc = LabelBinarizer()\n",
    "y_train = enc.fit_transform(y_train)\n",
    "y_test = enc.fit_transform(y_test)"
   ]
  },
  {
   "cell_type": "code",
   "execution_count": 108,
   "metadata": {
    "colab": {
     "base_uri": "https://localhost:8080/",
     "height": 51
    },
    "colab_type": "code",
    "id": "FtlzWLBqpRw6",
    "outputId": "219b260f-3797-4c46-84a1-6ad4ec2a9e58"
   },
   "outputs": [
    {
     "name": "stdout",
     "output_type": "stream",
     "text": [
      "(50000, 10)\n",
      "(10000, 10)\n"
     ]
    }
   ],
   "source": [
    "print(y_train.shape)\n",
    "print(y_test.shape)"
   ]
  },
  {
   "cell_type": "code",
   "execution_count": 109,
   "metadata": {
    "colab": {
     "base_uri": "https://localhost:8080/",
     "height": 34
    },
    "colab_type": "code",
    "id": "w0vmjXIq79Nz",
    "outputId": "8814d436-3c2e-4e5a-d189-4bc7064e1fdc"
   },
   "outputs": [
    {
     "data": {
      "text/plain": [
       "array([0, 0, 0, 0, 0, 0, 1, 0, 0, 0])"
      ]
     },
     "execution_count": 109,
     "metadata": {},
     "output_type": "execute_result"
    }
   ],
   "source": [
    "y_train[0]"
   ]
  },
  {
   "cell_type": "markdown",
   "metadata": {
    "colab_type": "text",
    "id": "8xlCscLsouHY"
   },
   "source": [
    "## Please Note:\n",
    "There are many tools to one-hot encode and they differ in syntax, but the keras one is probably best implemented.\n",
    "- `keras.utils.to_categorical`\n",
    "- `sklearn.preprocessing.OneHotEncoder`\n",
    "- `pandas get_dummies`"
   ]
  },
  {
   "cell_type": "code",
   "execution_count": 79,
   "metadata": {
    "colab": {
     "base_uri": "https://localhost:8080/",
     "height": 173
    },
    "colab_type": "code",
    "id": "UWSN8LRypurr",
    "outputId": "80ef1154-e135-40a6-c1ab-fa5ec788dbc0"
   },
   "outputs": [
    {
     "data": {
      "text/html": [
       "<div>\n",
       "<style>\n",
       "    .dataframe thead tr:only-child th {\n",
       "        text-align: right;\n",
       "    }\n",
       "\n",
       "    .dataframe thead th {\n",
       "        text-align: left;\n",
       "    }\n",
       "\n",
       "    .dataframe tbody tr th {\n",
       "        vertical-align: top;\n",
       "    }\n",
       "</style>\n",
       "<table border=\"1\" class=\"dataframe\">\n",
       "  <thead>\n",
       "    <tr style=\"text-align: right;\">\n",
       "      <th></th>\n",
       "      <th>0</th>\n",
       "      <th>1</th>\n",
       "      <th>2</th>\n",
       "      <th>3</th>\n",
       "    </tr>\n",
       "  </thead>\n",
       "  <tbody>\n",
       "    <tr>\n",
       "      <th>0</th>\n",
       "      <td>1</td>\n",
       "      <td>0</td>\n",
       "      <td>0</td>\n",
       "      <td>0</td>\n",
       "    </tr>\n",
       "    <tr>\n",
       "      <th>1</th>\n",
       "      <td>0</td>\n",
       "      <td>1</td>\n",
       "      <td>0</td>\n",
       "      <td>0</td>\n",
       "    </tr>\n",
       "    <tr>\n",
       "      <th>2</th>\n",
       "      <td>0</td>\n",
       "      <td>0</td>\n",
       "      <td>1</td>\n",
       "      <td>0</td>\n",
       "    </tr>\n",
       "    <tr>\n",
       "      <th>3</th>\n",
       "      <td>0</td>\n",
       "      <td>0</td>\n",
       "      <td>0</td>\n",
       "      <td>1</td>\n",
       "    </tr>\n",
       "  </tbody>\n",
       "</table>\n",
       "</div>"
      ],
      "text/plain": [
       "   0  1  2  3\n",
       "0  1  0  0  0\n",
       "1  0  1  0  0\n",
       "2  0  0  1  0\n",
       "3  0  0  0  1"
      ]
     },
     "execution_count": 79,
     "metadata": {},
     "output_type": "execute_result"
    }
   ],
   "source": [
    "import pandas as pd\n",
    "from sklearn.preprocessing import OneHotEncoder\n",
    "#y = [[0], [1], [2], [3]]\n",
    "y = [0, 1, 2, 3]\n",
    "#keras.utils.to_categorical(y)\n",
    "#ohe = OneHotEncoder()\n",
    "#ohe.fit_transform(y).toarray()\n",
    "pd.get_dummies(y)"
   ]
  },
  {
   "cell_type": "markdown",
   "metadata": {
    "colab_type": "text",
    "id": "lRk1hd2llEXG"
   },
   "source": [
    "<h1>Create the Model:<h1/>\n",
    "\n",
    "- Convolutional input layer, 32 feature maps with a size of 5×5 and a rectifier activation function.\n",
    "- Batch Normalization Layer.\n",
    "- Convolutional layer, 32 feature maps with a size of 5×5 and a rectifier activation function.\n",
    "- Batch Normalization layer.\n",
    "- Max Pool layer with size 2×2.\n",
    "- Dropout layer at 25%.\n",
    "---\n",
    "- Convolutional layer, 64 feature maps with a size of 3×3 and a rectifier activation function.\n",
    "- Batch Normalization layer.\n",
    "- Dropout layer at 25%.\n",
    "- Convolutional layer, 64 feature maps with a size of 3×3 and a rectifier activation function.\n",
    "- Batch Normalization layer.\n",
    "- Max Pool layer with size 2×2.\n",
    "- Dropout layer at 25%.\n",
    "---\n",
    "- GlobalMaxPooling2D layer.\n",
    "- Fully connected layer with 256 units and a rectifier activation function.\n",
    "- Dropout layer at 50%.\n",
    "- Fully connected output layer with 10 units and a softmax activation function.\n"
   ]
  },
  {
   "cell_type": "code",
   "execution_count": 84,
   "metadata": {},
   "outputs": [
    {
     "data": {
      "text/plain": [
       "(50000, 32, 32, 3)"
      ]
     },
     "execution_count": 84,
     "metadata": {},
     "output_type": "execute_result"
    }
   ],
   "source": [
    "x_train.shape"
   ]
  },
  {
   "cell_type": "code",
   "execution_count": null,
   "metadata": {
    "colab": {
     "base_uri": "https://localhost:8080/",
     "height": 833
    },
    "colab_type": "code",
    "id": "G7Q4W4_-DAkL",
    "outputId": "780af4a6-0b17-46ac-ae95-813b1197a68a"
   },
   "outputs": [
    {
     "name": "stdout",
     "output_type": "stream",
     "text": [
      "Model: \"sequential\"\n",
      "_________________________________________________________________\n",
      "Layer (type)                 Output Shape              Param #   \n",
      "=================================================================\n",
      "conv2d (Conv2D)              (None, 32, 32, 32)        2432      \n",
      "_________________________________________________________________\n",
      "batch_normalization (BatchNo (None, 32, 32, 32)        128       \n",
      "_________________________________________________________________\n",
      "max_pooling2d (MaxPooling2D) (None, 16, 16, 32)        0         \n",
      "_________________________________________________________________\n",
      "dropout (Dropout)            (None, 16, 16, 32)        0         \n",
      "_________________________________________________________________\n",
      "conv2d_1 (Conv2D)            (None, 16, 16, 64)        51264     \n",
      "_________________________________________________________________\n",
      "batch_normalization_1 (Batch (None, 16, 16, 64)        256       \n",
      "_________________________________________________________________\n",
      "max_pooling2d_1 (MaxPooling2 (None, 8, 8, 64)          0         \n",
      "_________________________________________________________________\n",
      "dropout_1 (Dropout)          (None, 8, 8, 64)          0         \n",
      "_________________________________________________________________\n",
      "conv2d_2 (Conv2D)            (None, 8, 8, 64)          36928     \n",
      "_________________________________________________________________\n",
      "batch_normalization_2 (Batch (None, 8, 8, 64)          256       \n",
      "_________________________________________________________________\n",
      "max_pooling2d_2 (MaxPooling2 (None, 4, 4, 64)          0         \n",
      "_________________________________________________________________\n",
      "dropout_2 (Dropout)          (None, 4, 4, 64)          0         \n",
      "_________________________________________________________________\n",
      "conv2d_3 (Conv2D)            (None, 4, 4, 64)          36928     \n",
      "_________________________________________________________________\n",
      "batch_normalization_3 (Batch (None, 4, 4, 64)          256       \n",
      "_________________________________________________________________\n",
      "max_pooling2d_3 (MaxPooling2 (None, 2, 2, 64)          0         \n",
      "_________________________________________________________________\n",
      "dropout_3 (Dropout)          (None, 2, 2, 64)          0         \n",
      "_________________________________________________________________\n",
      "global_max_pooling2d (Global (None, 64)                0         \n",
      "_________________________________________________________________\n",
      "dense (Dense)                (None, 256)               16640     \n",
      "_________________________________________________________________\n",
      "dropout_4 (Dropout)          (None, 256)               0         \n",
      "_________________________________________________________________\n",
      "dense_1 (Dense)              (None, 10)                2570      \n",
      "=================================================================\n",
      "Total params: 147,658\n",
      "Trainable params: 147,210\n",
      "Non-trainable params: 448\n",
      "_________________________________________________________________\n"
     ]
    }
   ],
   "source": [
    "# Set the CNN model\n",
    "\n",
    "#batch_size = None\n",
    "\n",
    "model = models.Sequential()\n",
    "model.add(layers.Conv2D(32, (5, 5), padding='same', activation=\"relu\", input_shape=x_train.shape[1:]))\n",
    "model.add(layers.BatchNormalization())\n",
    "model.add(layers.MaxPooling2D((2, 2)))\n",
    "model.add(layers.Dropout(0.2))\n",
    "model.add(layers.Conv2D(64, (5, 5), padding='same', activation=\"relu\"))\n",
    "model.add(layers.BatchNormalization())\n",
    "model.add(layers.MaxPooling2D((2, 2)))\n",
    "model.add(layers.Dropout(0.3))\n",
    "model.add(layers.Conv2D(64, (3, 3), padding='same', activation=\"relu\"))\n",
    "model.add(layers.BatchNormalization())\n",
    "model.add(layers.MaxPooling2D((2, 2)))\n",
    "model.add(layers.Dropout(0.4))\n",
    "model.add(layers.Conv2D(64, (3, 3), padding='same', activation=\"relu\"))\n",
    "model.add(layers.BatchNormalization())\n",
    "model.add(layers.MaxPooling2D((2, 2)))\n",
    "model.add(layers.Dropout(0.5))\n",
    "\n",
    "model.add(layers.GlobalMaxPooling2D())\n",
    "model.add(layers.Dense(256, activation=\"relu\"))\n",
    "model.add(layers.Dropout(0.5))\n",
    "model.add(layers.Dense(10, activation=\"softmax\"))\n",
    "\n",
    "model.summary()"
   ]
  },
  {
   "cell_type": "markdown",
   "metadata": {
    "colab_type": "text",
    "id": "g_-yF0WD8hBB"
   },
   "source": [
    "# Number of parameters in the CNN layers:\n",
    "\n",
    "- ## Number of Parameters of a Conv Layer:\n",
    "In a CNN, each layer has two kinds of parameters : weights and biases. The total number of parameters is just the sum of all weights and biases.\n",
    "\n",
    "  Let’s define,\n",
    "\n",
    "  - W_c = Number of weights of the Conv Layer.\n",
    "  - B_c = Number of biases of the Conv Layer.\n",
    "  - P_c = Number of parameters of the Conv Layer.\n",
    "  - K = Size (width) of kernels used in the Conv Layer.\n",
    "  - N = Number of kernels.\n",
    "  - C = Number of channels of the input image.\n",
    "\n",
    "    W<sub>c</sub> = K<sup>2</sup> x C x N\n",
    "    \n",
    "    B<sub>c</sub> = N\n",
    "\n",
    "    P<sub>c</sub> = W<sub>c</sub> + B<sub>c</sub>\n",
    "\n",
    "\n",
    "  So, we will use this formulae for our parameter calculation of first layer:\n",
    "    \n",
    "    model.add(layers.Conv2D(32, (5, 5), padding='same', activation=\"relu\", input_shape=x_train.shape[1:]))\n",
    "\n",
    "  So the number of parameters is given by:\n",
    "\n",
    "  Number of weights = W<sub>c</sub> = 5<sup>2</sup> x 3 x 32 = 2400\n",
    "\n",
    "  Number of biases = B<sub>c</sub> = 32\n",
    "\n",
    "  Total number of parameters for this layer = P<sub>c</sub> = 2400 + 32 = 2432\n",
    "\n",
    "\n",
    "  We can verify this number by looking at the model summary.\n",
    "\n",
    "    conv2d (Conv2D)              (None, 32, 32, 32)        2432\n",
    "\n",
    "- ## Number of Parameters of a MaxPool Layer:\n",
    "There are no parameters associated with a MaxPool layer. The pool size, stride, and padding are hyperparameters.\n",
    "\n",
    "- ## Number of Parameters of a Fully Connected (FC) Layer:\n",
    "There are two kinds of fully connected layers in a CNN. The first FC layer is connected to the last Conv Layer, while later FC layers are connected to other FC layers. Let’s consider each case separately.\n",
    "\n",
    "  - ### Case 1: Number of Parameters of a Fully Connected (FC) Layer connected to a Conv Layer:\n",
    "  Let’s define,\n",
    "\n",
    "    W_{cf} = Number of weights of a FC Layer which is connected to a Conv Layer.\n",
    "\n",
    "    B_{cf} = Number of biases of a FC Layer which is connected to a Conv Layer.\n",
    "    \n",
    "    O = Size (width) of the output image of the previous Conv Layer.\n",
    "    \n",
    "    N = Number of kernels in the previous Conv Layer.\n",
    "    \n",
    "    F = Number of neurons in the FC Layer.\n",
    "\n",
    "      - W<sub>cf</sub> = O<sup>2</sup> x N x F\n",
    "    \n",
    "      - B<sub>cf</sub> = F\n",
    "\n",
    "      - P<sub>cf</sub> = W<sub>cf</sub> + B<sub>cf</sub>\n",
    "\n",
    "    Example: The first fully connected layer of our model is connected to a Conv Layer. For this layer, O = 1 (the width and height of image after global maxpooling), N = 64 and F = 256. Therefore,\n",
    "\n",
    "      - Number of weights = W<sub>cf</sub> = 1<sup>2</sup> x 64 x 256 = 16384\n",
    "\n",
    "      - Number of biases = B<sub>c</sub> = 256\n",
    "\n",
    "      - Total number of parameters for this layer = P<sub>c</sub> = 16384 + 256 = 16640\n",
    "\n",
    "    We can verify this number by looking at the model summary.\n",
    "      \n",
    "            dense (Dense)                (None, 256)               16640 \n",
    "\n",
    "  - ### Case 2: Number of Parameters of a Fully Connected (FC) Layer connected to a FC Layer\n",
    "  Let’s define,\n",
    "\n",
    "    W<sub>ff</sub> = Number of weights of a FC Layer which is connected to an FC Layer.\n",
    "\n",
    "    B<sub>ff</sub> = Number of biases of a FC Layer which is connected to an FC Layer.\n",
    "    \n",
    "    P<sub>ff</sub> = Number of parameters of a FC Layer which is connected to an FC Layer.\n",
    "    \n",
    "    F = Number of neurons in the FC Layer.\n",
    "    \n",
    "    F<sub>-1</sub> = Number of neurons in the previous FC Layer.\n",
    "\n",
    "      - W<sub>ff</sub> = F<sub>-1</sub> x F\n",
    "\n",
    "      - B<sub>ff</sub> = F\n",
    "\n",
    "      - P<sub>ff</sub> = W<sub>ff</sub> + B<sub>ff</sub>\n",
    "\n",
    "    In the above equation, **F<sub>-1</sub> x F** is the total number of connection weights from neurons of the previous FC Layer the neurons of the current FC Layer. The total number of biases is the same as the number of neurons (F).\n",
    "\n",
    "    Example: The last fully connected layer of AlexNet is connected to an FC Layer. For this layer, **F<sub>-1</sub>** = 256 and **F** = 10. Therefore,\n",
    "\n",
    "      - Number of weights = W<sub>cf</sub> = 256 x 10 = 2560\n",
    "\n",
    "      - Number of biases = B<sub>c</sub> = 10\n",
    "\n",
    "      - Total number of parameters for this layer = P<sub>c</sub> = 2560 + 10 = 2570\n",
    "\n",
    "    We can verify this number by looking at the model summary.\n",
    "      \n",
    "            dense_1 (Dense)              (None, 10)                2570"
   ]
  },
  {
   "cell_type": "markdown",
   "metadata": {
    "colab_type": "text",
    "id": "aDIcfXrV0zRH"
   },
   "source": [
    "## Please Note:\n",
    "> Activations can either be used through an Activation layer, or through the activation argument supported by all forward layers.\n",
    "\n",
    "https://keras.io/api/layers/activations/"
   ]
  },
  {
   "cell_type": "markdown",
   "metadata": {
    "colab_type": "text",
    "id": "AGK2OEtgFbF1"
   },
   "source": [
    "<h3>Conv2D:<h3/>\n",
    "\n",
    "- Keras Conv2D is a 2D Convolution Layer, this layer creates a convolution kernel that is wind with layers input which helps produce a tensor of outputs.\n",
    "\n",
    "<h3>Activation('relu'):<h3/>\n",
    "\n",
    "- 'relu' stands for Rectified linear unit. It is the most widely used activation function. Chiefly implemented in hidden layers of Neural network.\n",
    "- ReLu is less computationally expensive than tanh and sigmoid because it involves simpler mathematical operations. At a time only a few neurons are activated making the network sparse making it efficient and easy for computation.\n",
    "\n",
    "<h3>MaxPooling2D:<h3/>\n",
    "\n",
    "- The objective MaxPooling Layer is to down-sample an input representation.\n",
    "- This is done to in part to help over-fitting by providing an abstracted form of the representation. As well, it reduces the computational cost by reducing the number of parameters to learn.\n",
    "\n",
    "<h3>Dropout:<h3/>\n",
    "\n",
    "- Dropout is a technique used to improve over-fit on neural networks.\n",
    "- Basically during training half of neurons on a particular layer will be deactivated. This improve generalization.\n",
    "- Normally some deep learning models use Dropout on the fully connected layers, but is also possible to use dropout after the max-pooling layers, creating some kind of image noise augmentation.\n",
    "\n",
    "<h3>Dense:<h3/>\n",
    "\n",
    "- Dense layer implements the operation: output = activation(dot(input, kernel) + bias) where activation is the element-wise activation function passed as the activation argument, kernel is a weights matrix created by the layer, and bias is a bias vector created by the layer (only applicable if use_bias is True).\n",
    "\n",
    "<h3>Softmax:<h3/>\n",
    "\n",
    "- The softmax function is also a type of sigmoid function but is handy when we are trying to handle classification problems.\n",
    "- Usually used when trying to handle multiple classes. The softmax function would squeeze the outputs for each class between 0 and 1 and would also divide by the sum of the outputs.\n",
    "______________"
   ]
  },
  {
   "cell_type": "markdown",
   "metadata": {
    "colab_type": "text",
    "id": "kjBlo11J3GHg"
   },
   "source": [
    "## Add-on:\n",
    "How to handle multilabel classification?"
   ]
  },
  {
   "cell_type": "markdown",
   "metadata": {
    "colab_type": "text",
    "id": "j9Bltmc3mFhQ"
   },
   "source": [
    "<h4>When training the network, what you want is minimize the cost by applying a algorithm of your choice. It could be SGD, AdamOptimizer, AdagradOptimizer, or something. You have to study how each algorithm works to choose what to use, but AdamOptimizer works find for most cases in general.<h4/>"
   ]
  },
  {
   "cell_type": "code",
   "execution_count": null,
   "metadata": {
    "colab": {},
    "colab_type": "code",
    "id": "WwbnUwjGReRR"
   },
   "outputs": [],
   "source": [
    "# initiate Adam optimizer\n",
    "opt = optimizers.Adam(learning_rate=0.001, beta_1=0.9, beta_2=0.999, epsilon=1e-08)"
   ]
  },
  {
   "cell_type": "code",
   "execution_count": null,
   "metadata": {
    "colab": {},
    "colab_type": "code",
    "id": "eDiEZTmyRfmx"
   },
   "outputs": [],
   "source": [
    "# Let's train the model using RMSprop\n",
    "model.compile(loss='categorical_crossentropy',\n",
    "              optimizer=opt,\n",
    "              metrics=['accuracy'])"
   ]
  },
  {
   "cell_type": "markdown",
   "metadata": {
    "colab_type": "text",
    "id": "NIAu9SmeSbT_"
   },
   "source": [
    "## Add-on:\n",
    "Which loss function to use? It depends :)\n",
    "\n",
    "https://stackoverflow.com/questions/42081257/why-binary-crossentropy-and-categorical-crossentropy-give-different-performances"
   ]
  },
  {
   "cell_type": "code",
   "execution_count": null,
   "metadata": {
    "colab": {
     "base_uri": "https://localhost:8080/",
     "height": 833
    },
    "colab_type": "code",
    "id": "0uN0HlTjK5ZL",
    "outputId": "173a3581-3294-4fc0-d77d-bf510742decf"
   },
   "outputs": [
    {
     "name": "stdout",
     "output_type": "stream",
     "text": [
      "Model: \"sequential\"\n",
      "_________________________________________________________________\n",
      "Layer (type)                 Output Shape              Param #   \n",
      "=================================================================\n",
      "conv2d (Conv2D)              (None, 32, 32, 32)        2432      \n",
      "_________________________________________________________________\n",
      "batch_normalization (BatchNo (None, 32, 32, 32)        128       \n",
      "_________________________________________________________________\n",
      "max_pooling2d (MaxPooling2D) (None, 16, 16, 32)        0         \n",
      "_________________________________________________________________\n",
      "dropout (Dropout)            (None, 16, 16, 32)        0         \n",
      "_________________________________________________________________\n",
      "conv2d_1 (Conv2D)            (None, 16, 16, 64)        51264     \n",
      "_________________________________________________________________\n",
      "batch_normalization_1 (Batch (None, 16, 16, 64)        256       \n",
      "_________________________________________________________________\n",
      "max_pooling2d_1 (MaxPooling2 (None, 8, 8, 64)          0         \n",
      "_________________________________________________________________\n",
      "dropout_1 (Dropout)          (None, 8, 8, 64)          0         \n",
      "_________________________________________________________________\n",
      "conv2d_2 (Conv2D)            (None, 8, 8, 64)          36928     \n",
      "_________________________________________________________________\n",
      "batch_normalization_2 (Batch (None, 8, 8, 64)          256       \n",
      "_________________________________________________________________\n",
      "max_pooling2d_2 (MaxPooling2 (None, 4, 4, 64)          0         \n",
      "_________________________________________________________________\n",
      "dropout_2 (Dropout)          (None, 4, 4, 64)          0         \n",
      "_________________________________________________________________\n",
      "conv2d_3 (Conv2D)            (None, 4, 4, 64)          36928     \n",
      "_________________________________________________________________\n",
      "batch_normalization_3 (Batch (None, 4, 4, 64)          256       \n",
      "_________________________________________________________________\n",
      "max_pooling2d_3 (MaxPooling2 (None, 2, 2, 64)          0         \n",
      "_________________________________________________________________\n",
      "dropout_3 (Dropout)          (None, 2, 2, 64)          0         \n",
      "_________________________________________________________________\n",
      "global_max_pooling2d (Global (None, 64)                0         \n",
      "_________________________________________________________________\n",
      "dense (Dense)                (None, 256)               16640     \n",
      "_________________________________________________________________\n",
      "dropout_4 (Dropout)          (None, 256)               0         \n",
      "_________________________________________________________________\n",
      "dense_1 (Dense)              (None, 10)                2570      \n",
      "=================================================================\n",
      "Total params: 147,658\n",
      "Trainable params: 147,210\n",
      "Non-trainable params: 448\n",
      "_________________________________________________________________\n"
     ]
    }
   ],
   "source": [
    "# Network structure is summarized which confirms our design was implemented correctly.\n",
    "model.summary()"
   ]
  },
  {
   "cell_type": "markdown",
   "metadata": {
    "colab_type": "text",
    "id": "qXHjbtgluIyn"
   },
   "source": [
    "- The pixel values are in the range of 0 to 255 for each of the red, green and blue channels.\n",
    "\n",
    "- It is good practice to work with normalized data. Because the input values are well understood, we can easily normalize to the range 0 to 1 by dividing each value by the maximum observation which is 255.\n",
    "\n",
    "- Note, the data is loaded as integers, so we must cast it to floating point values in order to perform the division."
   ]
  },
  {
   "cell_type": "code",
   "execution_count": null,
   "metadata": {
    "colab": {},
    "colab_type": "code",
    "id": "fdy_QO9tRifH"
   },
   "outputs": [],
   "source": [
    "x_train = x_train.astype('float32') # Conversion to float type from integer type.\n",
    "x_test = x_test.astype('float32')\n",
    "x_train /= 255.0 # Division by 255\n",
    "x_test /= 255.0"
   ]
  },
  {
   "cell_type": "code",
   "execution_count": null,
   "metadata": {
    "colab": {
     "base_uri": "https://localhost:8080/",
     "height": 34
    },
    "colab_type": "code",
    "id": "Hbe2G_w9bvNh",
    "outputId": "fa44c389-7577-42bd-91c3-6f9062bdb4f6"
   },
   "outputs": [
    {
     "name": "stdout",
     "output_type": "stream",
     "text": [
      "WARNING:tensorflow:`period` argument is deprecated. Please use `save_freq` to specify the frequency in number of batches seen.\n"
     ]
    }
   ],
   "source": [
    "#Adding Early stopping callback to the fit function is going to stop the training,\n",
    "#if the val_loss is not going to change even '0.001' for more than 10 continous epochs\n",
    "from tensorflow.keras.callbacks import ModelCheckpoint, EarlyStopping\n",
    "\n",
    "early_stopping = EarlyStopping(monitor='val_loss', min_delta=0.001, patience=10)\n",
    "\n",
    "#Adding Model Checkpoint callback to the fit function is going to save the weights whenever val_loss achieves a new low value. \n",
    "#Hence saving the best weights occurred during training\n",
    "\n",
    "model_checkpoint =  ModelCheckpoint('cifar_cnn_checkpoint_{epoch:02d}_loss{val_loss:.4f}.h5',\n",
    "                                                           monitor='val_loss',\n",
    "                                                           verbose=1,\n",
    "                                                           save_best_only=True,\n",
    "                                                           save_weights_only=True,\n",
    "                                                           mode='auto',\n",
    "                                                           period=1)"
   ]
  },
  {
   "cell_type": "code",
   "execution_count": null,
   "metadata": {
    "colab": {
     "base_uri": "https://localhost:8080/",
     "height": 51
    },
    "colab_type": "code",
    "id": "jCN4Vz4NPhuU",
    "outputId": "1f5178a3-4252-4ad0-fedc-5ac2a0904f1b"
   },
   "outputs": [
    {
     "name": "stdout",
     "output_type": "stream",
     "text": [
      "(50000, 32, 32, 3)\n",
      "(10000, 32, 32, 3)\n"
     ]
    }
   ],
   "source": [
    "x_train = x_train.reshape(x_train.shape[0], 32, 32, 3)\n",
    "x_test = x_test.reshape(x_test.shape[0], 32, 32, 3)\n",
    "\n",
    "print(x_train.shape)\n",
    "print(x_test.shape)"
   ]
  },
  {
   "cell_type": "markdown",
   "metadata": {
    "colab_type": "text",
    "id": "7aG-R9GYunmf"
   },
   "source": [
    "<h2>Fit the model:<h2/>\n",
    "\n",
    "-  We can fit this model with 40 epochs and a batch size of 32.\n",
    "\n",
    "- A small number of epochs was chosen to quickly run the code so we can understand the concepts ahead. Normally the number of epochs would be one or two orders of magnitude larger for this problem."
   ]
  },
  {
   "cell_type": "code",
   "execution_count": null,
   "metadata": {
    "colab": {
     "base_uri": "https://localhost:8080/",
     "height": 1000
    },
    "colab_type": "code",
    "id": "e0ubfQ0kRl1G",
    "outputId": "2b5a09ba-5c87-4f0c-86a2-ccce42f6e2b5"
   },
   "outputs": [
    {
     "name": "stdout",
     "output_type": "stream",
     "text": [
      "Epoch 1/40\n",
      "1563/1563 [==============================] - ETA: 0s - loss: 1.8571 - accuracy: 0.3172\n",
      "Epoch 00001: val_loss improved from inf to 1.78368, saving model to cifar_cnn_checkpoint_01_loss1.7837.h5\n",
      "1563/1563 [==============================] - 10s 7ms/step - loss: 1.8571 - accuracy: 0.3172 - val_loss: 1.7837 - val_accuracy: 0.3775\n",
      "Epoch 2/40\n",
      "1559/1563 [============================>.] - ETA: 0s - loss: 1.5134 - accuracy: 0.4457\n",
      "Epoch 00002: val_loss improved from 1.78368 to 1.40452, saving model to cifar_cnn_checkpoint_02_loss1.4045.h5\n",
      "1563/1563 [==============================] - 10s 6ms/step - loss: 1.5129 - accuracy: 0.4459 - val_loss: 1.4045 - val_accuracy: 0.4890\n",
      "Epoch 3/40\n",
      "1559/1563 [============================>.] - ETA: 0s - loss: 1.3543 - accuracy: 0.5142\n",
      "Epoch 00003: val_loss did not improve from 1.40452\n",
      "1563/1563 [==============================] - 10s 6ms/step - loss: 1.3540 - accuracy: 0.5143 - val_loss: 1.4316 - val_accuracy: 0.4943\n",
      "Epoch 4/40\n",
      "1554/1563 [============================>.] - ETA: 0s - loss: 1.2595 - accuracy: 0.5527\n",
      "Epoch 00004: val_loss improved from 1.40452 to 1.34169, saving model to cifar_cnn_checkpoint_04_loss1.3417.h5\n",
      "1563/1563 [==============================] - 10s 6ms/step - loss: 1.2597 - accuracy: 0.5529 - val_loss: 1.3417 - val_accuracy: 0.5258\n",
      "Epoch 5/40\n",
      "1559/1563 [============================>.] - ETA: 0s - loss: 1.1856 - accuracy: 0.5799\n",
      "Epoch 00005: val_loss improved from 1.34169 to 1.18099, saving model to cifar_cnn_checkpoint_05_loss1.1810.h5\n",
      "1563/1563 [==============================] - 10s 6ms/step - loss: 1.1857 - accuracy: 0.5799 - val_loss: 1.1810 - val_accuracy: 0.5841\n",
      "Epoch 6/40\n",
      "1556/1563 [============================>.] - ETA: 0s - loss: 1.1352 - accuracy: 0.6011\n",
      "Epoch 00006: val_loss did not improve from 1.18099\n",
      "1563/1563 [==============================] - 10s 6ms/step - loss: 1.1349 - accuracy: 0.6013 - val_loss: 1.4635 - val_accuracy: 0.5419\n",
      "Epoch 7/40\n",
      "1556/1563 [============================>.] - ETA: 0s - loss: 1.0894 - accuracy: 0.6185\n",
      "Epoch 00007: val_loss did not improve from 1.18099\n",
      "1563/1563 [==============================] - 10s 6ms/step - loss: 1.0892 - accuracy: 0.6185 - val_loss: 1.2055 - val_accuracy: 0.5955\n",
      "Epoch 8/40\n",
      "1556/1563 [============================>.] - ETA: 0s - loss: 1.0533 - accuracy: 0.6282\n",
      "Epoch 00008: val_loss improved from 1.18099 to 0.96029, saving model to cifar_cnn_checkpoint_08_loss0.9603.h5\n",
      "1563/1563 [==============================] - 10s 6ms/step - loss: 1.0529 - accuracy: 0.6282 - val_loss: 0.9603 - val_accuracy: 0.6701\n",
      "Epoch 9/40\n",
      "1554/1563 [============================>.] - ETA: 0s - loss: 1.0293 - accuracy: 0.6384\n",
      "Epoch 00009: val_loss did not improve from 0.96029\n",
      "1563/1563 [==============================] - 10s 6ms/step - loss: 1.0291 - accuracy: 0.6384 - val_loss: 1.7472 - val_accuracy: 0.5461\n",
      "Epoch 10/40\n",
      "1555/1563 [============================>.] - ETA: 0s - loss: 1.0003 - accuracy: 0.6504\n",
      "Epoch 00010: val_loss improved from 0.96029 to 0.88986, saving model to cifar_cnn_checkpoint_10_loss0.8899.h5\n",
      "1563/1563 [==============================] - 10s 6ms/step - loss: 1.0009 - accuracy: 0.6503 - val_loss: 0.8899 - val_accuracy: 0.6984\n",
      "Epoch 11/40\n",
      "1558/1563 [============================>.] - ETA: 0s - loss: 0.9742 - accuracy: 0.6635\n",
      "Epoch 00011: val_loss did not improve from 0.88986\n",
      "1563/1563 [==============================] - 10s 6ms/step - loss: 0.9744 - accuracy: 0.6634 - val_loss: 1.1633 - val_accuracy: 0.6559\n",
      "Epoch 12/40\n",
      "1555/1563 [============================>.] - ETA: 0s - loss: 0.9541 - accuracy: 0.6683\n",
      "Epoch 00012: val_loss improved from 0.88986 to 0.84735, saving model to cifar_cnn_checkpoint_12_loss0.8474.h5\n",
      "1563/1563 [==============================] - 10s 6ms/step - loss: 0.9538 - accuracy: 0.6683 - val_loss: 0.8474 - val_accuracy: 0.7164\n",
      "Epoch 13/40\n",
      "1558/1563 [============================>.] - ETA: 0s - loss: 0.9300 - accuracy: 0.6783\n",
      "Epoch 00013: val_loss did not improve from 0.84735\n",
      "1563/1563 [==============================] - 10s 6ms/step - loss: 0.9302 - accuracy: 0.6782 - val_loss: 1.1448 - val_accuracy: 0.6317\n",
      "Epoch 14/40\n",
      "1558/1563 [============================>.] - ETA: 0s - loss: 0.9192 - accuracy: 0.6812\n",
      "Epoch 00014: val_loss did not improve from 0.84735\n",
      "1563/1563 [==============================] - 10s 6ms/step - loss: 0.9192 - accuracy: 0.6812 - val_loss: 0.8974 - val_accuracy: 0.7160\n",
      "Epoch 15/40\n",
      "1558/1563 [============================>.] - ETA: 0s - loss: 0.8950 - accuracy: 0.6897\n",
      "Epoch 00015: val_loss did not improve from 0.84735\n",
      "1563/1563 [==============================] - 10s 6ms/step - loss: 0.8950 - accuracy: 0.6897 - val_loss: 0.9561 - val_accuracy: 0.7176\n",
      "Epoch 16/40\n",
      "1555/1563 [============================>.] - ETA: 0s - loss: 0.8901 - accuracy: 0.6935\n",
      "Epoch 00016: val_loss did not improve from 0.84735\n",
      "1563/1563 [==============================] - 10s 7ms/step - loss: 0.8898 - accuracy: 0.6936 - val_loss: 1.0951 - val_accuracy: 0.6605\n",
      "Epoch 17/40\n",
      "1560/1563 [============================>.] - ETA: 0s - loss: 0.8700 - accuracy: 0.6978\n",
      "Epoch 00017: val_loss did not improve from 0.84735\n",
      "1563/1563 [==============================] - 10s 6ms/step - loss: 0.8702 - accuracy: 0.6978 - val_loss: 1.0531 - val_accuracy: 0.6657\n",
      "Epoch 18/40\n",
      "1562/1563 [============================>.] - ETA: 0s - loss: 0.8621 - accuracy: 0.7041\n",
      "Epoch 00018: val_loss did not improve from 0.84735\n",
      "1563/1563 [==============================] - 10s 6ms/step - loss: 0.8621 - accuracy: 0.7041 - val_loss: 1.0416 - val_accuracy: 0.6730\n",
      "Epoch 19/40\n",
      "1560/1563 [============================>.] - ETA: 0s - loss: 0.8534 - accuracy: 0.7066\n",
      "Epoch 00019: val_loss did not improve from 0.84735\n",
      "1563/1563 [==============================] - 10s 6ms/step - loss: 0.8536 - accuracy: 0.7065 - val_loss: 0.8819 - val_accuracy: 0.7118\n",
      "Epoch 20/40\n",
      "1557/1563 [============================>.] - ETA: 0s - loss: 0.8385 - accuracy: 0.7137\n",
      "Epoch 00020: val_loss did not improve from 0.84735\n",
      "1563/1563 [==============================] - 10s 6ms/step - loss: 0.8387 - accuracy: 0.7137 - val_loss: 0.9119 - val_accuracy: 0.7030\n",
      "Epoch 21/40\n",
      "1562/1563 [============================>.] - ETA: 0s - loss: 0.8407 - accuracy: 0.7126\n",
      "Epoch 00021: val_loss did not improve from 0.84735\n",
      "1563/1563 [==============================] - 10s 6ms/step - loss: 0.8407 - accuracy: 0.7126 - val_loss: 1.1337 - val_accuracy: 0.6841\n",
      "Epoch 22/40\n",
      "1559/1563 [============================>.] - ETA: 0s - loss: 0.8315 - accuracy: 0.7168\n",
      "Epoch 00022: val_loss improved from 0.84735 to 0.79705, saving model to cifar_cnn_checkpoint_22_loss0.7970.h5\n",
      "1563/1563 [==============================] - 10s 6ms/step - loss: 0.8311 - accuracy: 0.7170 - val_loss: 0.7970 - val_accuracy: 0.7392\n",
      "Epoch 23/40\n",
      "1560/1563 [============================>.] - ETA: 0s - loss: 0.8109 - accuracy: 0.7235\n",
      "Epoch 00023: val_loss did not improve from 0.79705\n",
      "1563/1563 [==============================] - 10s 7ms/step - loss: 0.8112 - accuracy: 0.7235 - val_loss: 0.8574 - val_accuracy: 0.7376\n",
      "Epoch 24/40\n",
      "1558/1563 [============================>.] - ETA: 0s - loss: 0.8027 - accuracy: 0.7244\n",
      "Epoch 00024: val_loss did not improve from 0.79705\n",
      "1563/1563 [==============================] - 10s 6ms/step - loss: 0.8023 - accuracy: 0.7245 - val_loss: 0.8581 - val_accuracy: 0.7357\n",
      "Epoch 25/40\n",
      "1559/1563 [============================>.] - ETA: 0s - loss: 0.8022 - accuracy: 0.7268\n",
      "Epoch 00025: val_loss improved from 0.79705 to 0.78923, saving model to cifar_cnn_checkpoint_25_loss0.7892.h5\n",
      "1563/1563 [==============================] - 10s 6ms/step - loss: 0.8023 - accuracy: 0.7268 - val_loss: 0.7892 - val_accuracy: 0.7456\n",
      "Epoch 26/40\n",
      "1556/1563 [============================>.] - ETA: 0s - loss: 0.7966 - accuracy: 0.7256\n",
      "Epoch 00026: val_loss did not improve from 0.78923\n",
      "1563/1563 [==============================] - 10s 6ms/step - loss: 0.7969 - accuracy: 0.7254 - val_loss: 0.8192 - val_accuracy: 0.7296\n",
      "Epoch 27/40\n",
      "1556/1563 [============================>.] - ETA: 0s - loss: 0.7835 - accuracy: 0.7321\n",
      "Epoch 00027: val_loss did not improve from 0.78923\n",
      "1563/1563 [==============================] - 10s 6ms/step - loss: 0.7833 - accuracy: 0.7322 - val_loss: 1.4873 - val_accuracy: 0.6396\n",
      "Epoch 28/40\n",
      "1558/1563 [============================>.] - ETA: 0s - loss: 0.7786 - accuracy: 0.7351\n",
      "Epoch 00028: val_loss did not improve from 0.78923\n",
      "1563/1563 [==============================] - 10s 6ms/step - loss: 0.7789 - accuracy: 0.7350 - val_loss: 0.8142 - val_accuracy: 0.7516\n",
      "Epoch 29/40\n",
      "1561/1563 [============================>.] - ETA: 0s - loss: 0.7822 - accuracy: 0.7331\n",
      "Epoch 00029: val_loss improved from 0.78923 to 0.77714, saving model to cifar_cnn_checkpoint_29_loss0.7771.h5\n",
      "1563/1563 [==============================] - 10s 6ms/step - loss: 0.7820 - accuracy: 0.7331 - val_loss: 0.7771 - val_accuracy: 0.7532\n",
      "Epoch 30/40\n",
      "1556/1563 [============================>.] - ETA: 0s - loss: 0.7698 - accuracy: 0.7379\n",
      "Epoch 00030: val_loss did not improve from 0.77714\n",
      "1563/1563 [==============================] - 10s 6ms/step - loss: 0.7698 - accuracy: 0.7377 - val_loss: 0.9543 - val_accuracy: 0.7281\n",
      "Epoch 31/40\n",
      "1560/1563 [============================>.] - ETA: 0s - loss: 0.7638 - accuracy: 0.7390\n",
      "Epoch 00031: val_loss did not improve from 0.77714\n",
      "1563/1563 [==============================] - 10s 6ms/step - loss: 0.7639 - accuracy: 0.7390 - val_loss: 1.7996 - val_accuracy: 0.5956\n",
      "Epoch 32/40\n",
      "1555/1563 [============================>.] - ETA: 0s - loss: 0.7615 - accuracy: 0.7393\n",
      "Epoch 00032: val_loss improved from 0.77714 to 0.67426, saving model to cifar_cnn_checkpoint_32_loss0.6743.h5\n",
      "1563/1563 [==============================] - 10s 6ms/step - loss: 0.7614 - accuracy: 0.7392 - val_loss: 0.6743 - val_accuracy: 0.7813\n",
      "Epoch 33/40\n",
      "1556/1563 [============================>.] - ETA: 0s - loss: 0.7507 - accuracy: 0.7437\n",
      "Epoch 00033: val_loss did not improve from 0.67426\n",
      "1563/1563 [==============================] - 10s 6ms/step - loss: 0.7507 - accuracy: 0.7437 - val_loss: 0.9061 - val_accuracy: 0.7355\n",
      "Epoch 34/40\n",
      "1557/1563 [============================>.] - ETA: 0s - loss: 0.7431 - accuracy: 0.7486\n",
      "Epoch 00034: val_loss improved from 0.67426 to 0.67239, saving model to cifar_cnn_checkpoint_34_loss0.6724.h5\n",
      "1563/1563 [==============================] - 10s 6ms/step - loss: 0.7433 - accuracy: 0.7484 - val_loss: 0.6724 - val_accuracy: 0.7832\n",
      "Epoch 35/40\n",
      "1563/1563 [==============================] - ETA: 0s - loss: 0.7445 - accuracy: 0.7444\n",
      "Epoch 00035: val_loss did not improve from 0.67239\n",
      "1563/1563 [==============================] - 10s 6ms/step - loss: 0.7445 - accuracy: 0.7444 - val_loss: 0.6939 - val_accuracy: 0.7708\n",
      "Epoch 36/40\n",
      "1560/1563 [============================>.] - ETA: 0s - loss: 0.7408 - accuracy: 0.7470\n",
      "Epoch 00036: val_loss did not improve from 0.67239\n",
      "1563/1563 [==============================] - 10s 6ms/step - loss: 0.7407 - accuracy: 0.7471 - val_loss: 0.8194 - val_accuracy: 0.7481\n",
      "Epoch 37/40\n",
      "1557/1563 [============================>.] - ETA: 0s - loss: 0.7407 - accuracy: 0.7464\n",
      "Epoch 00037: val_loss did not improve from 0.67239\n",
      "1563/1563 [==============================] - 10s 6ms/step - loss: 0.7407 - accuracy: 0.7464 - val_loss: 0.7266 - val_accuracy: 0.7679\n",
      "Epoch 38/40\n",
      "1563/1563 [==============================] - ETA: 0s - loss: 0.7293 - accuracy: 0.7515\n",
      "Epoch 00038: val_loss did not improve from 0.67239\n",
      "1563/1563 [==============================] - 10s 6ms/step - loss: 0.7293 - accuracy: 0.7515 - val_loss: 0.9158 - val_accuracy: 0.7307\n",
      "Epoch 39/40\n",
      "1560/1563 [============================>.] - ETA: 0s - loss: 0.7270 - accuracy: 0.7524\n",
      "Epoch 00039: val_loss did not improve from 0.67239\n",
      "1563/1563 [==============================] - 10s 6ms/step - loss: 0.7269 - accuracy: 0.7525 - val_loss: 0.7541 - val_accuracy: 0.7623\n",
      "Epoch 40/40\n",
      "1557/1563 [============================>.] - ETA: 0s - loss: 0.7311 - accuracy: 0.7491\n",
      "Epoch 00040: val_loss did not improve from 0.67239\n",
      "1563/1563 [==============================] - 10s 6ms/step - loss: 0.7309 - accuracy: 0.7492 - val_loss: 0.6853 - val_accuracy: 0.7838\n"
     ]
    },
    {
     "data": {
      "image/png": "[encoded data removed]",
      "text/plain": [
       "<Figure size 432x288 with 1 Axes>"
      ]
     },
     "metadata": {
      "needs_background": "light",
      "tags": []
     },
     "output_type": "display_data"
    }
   ],
   "source": [
    "history = model.fit(x_train,\n",
    "                    y_train,\n",
    "                    batch_size=batch_size,\n",
    "                    epochs=epochs,\n",
    "                    validation_data=(x_test, y_test),\n",
    "                    shuffle=True,\n",
    "                    verbose=1,\n",
    "                    callbacks=[early_stopping,model_checkpoint])\n",
    "\n",
    "# plot training history\n",
    "plt.plot(history.history['loss'], label='train')\n",
    "plt.plot(history.history['val_loss'], label='test')\n",
    "plt.legend()\n",
    "plt.show()"
   ]
  },
  {
   "cell_type": "markdown",
   "metadata": {
    "colab_type": "text",
    "id": "yhauG6YUvXqb"
   },
   "source": [
    "<h2>Model Score:<h2/>\n",
    "\n",
    "- Once the model is fit, we evaluate it on the test dataset and print out the classification accuracy"
   ]
  },
  {
   "cell_type": "code",
   "execution_count": null,
   "metadata": {
    "colab": {
     "base_uri": "https://localhost:8080/",
     "height": 68
    },
    "colab_type": "code",
    "id": "rLXR1tDpRrO2",
    "outputId": "c6327bf0-ebeb-452e-ca15-fccc8ae1ead1"
   },
   "outputs": [
    {
     "name": "stdout",
     "output_type": "stream",
     "text": [
      "313/313 [==============================] - 1s 3ms/step - loss: 0.6853 - accuracy: 0.7838\n",
      "Test loss: 0.6853188276290894\n",
      "Test accuracy: 0.7838000059127808\n"
     ]
    }
   ],
   "source": [
    "# Score trained model.\n",
    "scores = model.evaluate(x_test, y_test, verbose=1)\n",
    "print('Test loss:', scores[0])\n",
    "print('Test accuracy:', scores[1])"
   ]
  },
  {
   "cell_type": "markdown",
   "metadata": {
    "colab_type": "text",
    "id": "oW5reYl7Ls3R"
   },
   "source": [
    "<h3>The above score shows that the accuracy is good, as we used number of epochs = 30.\n",
    "If we use more epochs and tune the hyper-parameters more then we can get some more accuracy score. As our focus on the case study was to learn about the use of CNNs for image classification, we needed to run the code thoroughly so we set number of epochs to less. <h3/>"
   ]
  },
  {
   "cell_type": "markdown",
   "metadata": {
    "colab_type": "text",
    "id": "ZXRH4ZQULJxx"
   },
   "source": [
    "# Summary:\n",
    "\n",
    "<h3>In this case study we discovered how to create deep CNNs in Keras for image classification.<h3/>\n",
    "\n",
    "After working through this case study we learned:\n",
    "\n",
    "- About the CIFAR-10 dataset and how to load it in Keras and plot examples from the dataset.\n",
    "- How to train and evaluate a Convolutional Neural Network on the problem.\n"
   ]
  },
  {
   "cell_type": "markdown",
   "metadata": {
    "colab_type": "text",
    "id": "tH0ttsNkzeY_"
   },
   "source": [
    "## Additional Reading Material Links:\n",
    "\n",
    "- Benefits of using pooling layers https://stats.stackexchange.com/questions/288261/why-is-max-pooling-necessary-in-convolutional-neural-networks\n",
    "- Why padding? https://stats.stackexchange.com/questions/246512/convolutional-layers-to-pad-or-not-to-pad\n",
    "- More CNN's   \n",
    "  - https://towardsdatascience.com/simple-introduction-to-convolutional-neural-networks-cdf8d3077bac\n",
    "- Neural Network Architectures  https://towardsdatascience.com/neural-network-architectures-156e5bad51ba "
   ]
  },
  {
   "cell_type": "code",
   "execution_count": null,
   "metadata": {
    "colab": {},
    "colab_type": "code",
    "id": "p_S4sC1DdnhR"
   },
   "outputs": [],
   "source": []
  }
 ],
 "metadata": {
  "accelerator": "GPU",
  "colab": {
   "collapsed_sections": [],
   "name": "Session_Case_Study__ComputerVision_Week_2 (1).ipynb",
   "provenance": []
  },
  "kernelspec": {
   "display_name": "Python 3.6.2 64-bit ('py36': conda)",
   "language": "python",
   "name": "python36264bitpy36condaf3b7c6b548cc4f13ae4649958b51e8aa"
  },
  "language_info": {
   "codemirror_mode": {
    "name": "ipython",
    "version": 3
   },
   "file_extension": ".py",
   "mimetype": "text/x-python",
   "name": "python",
   "nbconvert_exporter": "python",
   "pygments_lexer": "ipython3",
   "version": "3.6.2"
  }
 },
 "nbformat": 4,
 "nbformat_minor": 1
}
